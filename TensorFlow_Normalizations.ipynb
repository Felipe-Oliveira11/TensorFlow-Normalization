{
  "nbformat": 4,
  "nbformat_minor": 0,
  "metadata": {
    "colab": {
      "name": "TensorFlow-Normalizations.ipynb",
      "provenance": [],
      "collapsed_sections": [],
      "authorship_tag": "ABX9TyM0shaUTt9JTQrEUBp/jzhc",
      "include_colab_link": true
    },
    "kernelspec": {
      "name": "python3",
      "display_name": "Python 3"
    }
  },
  "cells": [
    {
      "cell_type": "markdown",
      "metadata": {
        "id": "view-in-github",
        "colab_type": "text"
      },
      "source": [
        "<a href=\"https://colab.research.google.com/github/Felipe-Oliveira11/TensorFlow-Normalization/blob/master/TensorFlow_Normalizations.ipynb\" target=\"_parent\"><img src=\"https://colab.research.google.com/assets/colab-badge.svg\" alt=\"Open In Colab\"/></a>"
      ]
    },
    {
      "cell_type": "code",
      "metadata": {
        "id": "XIIexpNFn8uY",
        "colab_type": "code",
        "colab": {
          "base_uri": "https://localhost:8080/",
          "height": 71
        },
        "outputId": "db502902-9b21-4c67-ec03-a18f5c7c7215"
      },
      "source": [
        "import tensorflow as tf\n",
        "from tensorflow import keras\n",
        "from tensorflow.keras.models import save_model\n",
        "from tensorflow.keras.models import load_model\n",
        "from tensorflow.keras.models import Sequential\n",
        "from tensorflow.keras.models import Model\n",
        "from tensorflow.keras.optimizers import SGD, Adam, RMSprop\n",
        "from tensorflow.keras.layers import Dense, Input, Flatten\n",
        "from tensorflow.keras.layers import Dropout\n",
        "from tensorflow.keras.layers import SpatialDropout2D\n",
        "from tensorflow.keras.losses import SparseCategoricalCrossentropy\n",
        "from tensorflow.keras.utils import plot_model\n",
        "from tensorflow.keras.layers import Conv2D, MaxPool2D, GlobalMaxPool2D\n",
        "from tensorflow.keras.callbacks import EarlyStopping\n",
        "from tensorflow.keras.layers import LayerNormalization \n",
        "from tensorflow.keras.layers import BatchNormalization \n",
        "\n",
        "\n",
        "import time \n",
        "import pandas as pd \n",
        "import numpy as np\n",
        "import matplotlib.pyplot as plt\n",
        "import seaborn as sns\n",
        "from sklearn.metrics import confusion_matrix\n",
        "from sklearn.metrics import classification_report, accuracy_score"
      ],
      "execution_count": 1,
      "outputs": [
        {
          "output_type": "stream",
          "text": [
            "/usr/local/lib/python3.6/dist-packages/statsmodels/tools/_testing.py:19: FutureWarning: pandas.util.testing is deprecated. Use the functions in the public API at pandas.testing instead.\n",
            "  import pandas.util.testing as tm\n"
          ],
          "name": "stderr"
        }
      ]
    },
    {
      "cell_type": "code",
      "metadata": {
        "id": "AK7H3QD8oLK5",
        "colab_type": "code",
        "colab": {}
      },
      "source": [
        "fashion_mnist = keras.datasets.fashion_mnist\n",
        "(X_train, y_train), (X_test, y_test) = fashion_mnist.load_data()"
      ],
      "execution_count": 2,
      "outputs": []
    },
    {
      "cell_type": "code",
      "metadata": {
        "id": "PVx1Dc__qx5i",
        "colab_type": "code",
        "colab": {}
      },
      "source": [
        "class_names = ['T-shirt/top', 'Trouser', 'Pullover', 'Dress', 'Coat','Sandal', 'Shirt', 'Sneaker', 'Bag', 'Ankle boot']"
      ],
      "execution_count": 3,
      "outputs": []
    },
    {
      "cell_type": "code",
      "metadata": {
        "id": "oKzKoEMsoedX",
        "colab_type": "code",
        "colab": {
          "base_uri": "https://localhost:8080/",
          "height": 297
        },
        "outputId": "82a73238-9f43-43d0-bdf2-881958e6d23e"
      },
      "source": [
        "for image in range(0,4):\n",
        "  plt.subplot(2,2, image + 1)\n",
        "  plt.imshow(X_train[image], cmap=plt.cm.binary)\n",
        "  plt.title(class_names[image])\n",
        "  plt.grid(False)\n",
        "plt.tight_layout()\n",
        "plt.show()"
      ],
      "execution_count": 4,
      "outputs": [
        {
          "output_type": "display_data",
          "data": {
            "image/png": "[encoded data removed]",
            "text/plain": [
              "<Figure size 432x288 with 4 Axes>"
            ]
          },
          "metadata": {
            "tags": [],
            "needs_background": "light"
          }
        }
      ]
    },
    {
      "cell_type": "code",
      "metadata": {
        "id": "gkox0zyvoLcm",
        "colab_type": "code",
        "colab": {
          "base_uri": "https://localhost:8080/",
          "height": 34
        },
        "outputId": "ab1dabdc-be1b-4511-befe-d0270099be1c"
      },
      "source": [
        "# tipo de dados \n",
        "X_train = np.array(X_train, dtype='float64')\n",
        "X_test = np.array(X_test, dtype='float64')\n",
        "\n",
        "\n",
        "# padronização \n",
        "X_train = X_train / 255.0\n",
        "X_test = X_test / 255.0\n",
        "\n",
        "\n",
        "# image shape\n",
        "image_rows = 28\n",
        "image_cols = 28\n",
        "image_shape = (image_rows, image_cols,1)\n",
        "\n",
        "# Reshape | (28,28,1)\n",
        "X_train = X_train.reshape(X_train.shape[0], image_rows, image_cols, 1)\n",
        "X_test = X_test.reshape(X_test.shape[0], image_rows, image_cols, 1)\n",
        "\n",
        "print('Image shape: {}'.format(X_train.shape))"
      ],
      "execution_count": 5,
      "outputs": [
        {
          "output_type": "stream",
          "text": [
            "Image shape: (60000, 28, 28, 1)\n"
          ],
          "name": "stdout"
        }
      ]
    },
    {
      "cell_type": "markdown",
      "metadata": {
        "id": "Ejgh5-cwq7N4",
        "colab_type": "text"
      },
      "source": [
        "<br>\n",
        "<br>"
      ]
    },
    {
      "cell_type": "markdown",
      "metadata": {
        "id": "epsPP0r853QJ",
        "colab_type": "text"
      },
      "source": [
        "<br>\n",
        "<br>\n",
        "\n",
        "\n",
        "### Arquitetura Funcional de CNN \n",
        "\n",
        "Paradigma de construção utilizando <b>Model</b> de forma funcional.\n",
        "\n",
        "<br>\n",
        "<hr>\n",
        "<br>"
      ]
    },
    {
      "cell_type": "code",
      "metadata": {
        "id": "8VxOKNM_rfzr",
        "colab_type": "code",
        "colab": {}
      },
      "source": [
        "# parâmetros \n",
        "batch_size = 64\n",
        "epochs = 30\n",
        "optimizer = Adam(learning_rate=0.001)"
      ],
      "execution_count": 6,
      "outputs": []
    },
    {
      "cell_type": "code",
      "metadata": {
        "id": "jIRBg8xVq4Pp",
        "colab_type": "code",
        "colab": {}
      },
      "source": [
        "# Convolutional Neural Network  API funcional\n",
        "\n",
        "input = Input(shape=image_shape)\n",
        "model = Conv2D(32, (3,3), strides=(1,1), padding='valid', activation='relu')(input)\n",
        "model = MaxPool2D(pool_size=(2,2), strides=(1,1))(model)\n",
        "model = Conv2D(64, (3,3), strides=(1,1), padding='same', activation='relu')(model)\n",
        "model = MaxPool2D(pool_size=(2,2), strides=(1,1))(model)\n",
        "model = GlobalMaxPool2D()(model)\n",
        "model = Dense(128, activation='relu')(model)\n",
        "output = Dense(10, activation='softmax')(model)\n",
        "\n",
        "\n",
        "model = Model(inputs=input, outputs=output)"
      ],
      "execution_count": 7,
      "outputs": []
    },
    {
      "cell_type": "code",
      "metadata": {
        "id": "B71oOITutAYV",
        "colab_type": "code",
        "colab": {
          "base_uri": "https://localhost:8080/",
          "height": 1000
        },
        "outputId": "7c6eb1f2-e81c-4c25-d76d-e23aac78f60c"
      },
      "source": [
        "%%time \n",
        "\n",
        "model.compile(optimizer=optimizer,\n",
        "              loss='sparse_categorical_crossentropy',\n",
        "              metrics=['accuracy'])\n",
        "\n",
        "\n",
        "early_stopping = EarlyStopping(monitor='val_loss',\n",
        "                               mode='min',\n",
        "                               min_delta=0.001,\n",
        "                               patience=5\n",
        "                               )\n",
        "\n",
        "\n",
        "model.fit(X_train, y_train,\n",
        "          batch_size=batch_size,\n",
        "          epochs=epochs,\n",
        "          validation_split=0.20,\n",
        "          callbacks=[early_stopping])"
      ],
      "execution_count": 8,
      "outputs": [
        {
          "output_type": "stream",
          "text": [
            "Epoch 1/30\n",
            "750/750 [==============================] - 157s 210ms/step - loss: 0.8800 - accuracy: 0.6913 - val_loss: 0.5938 - val_accuracy: 0.7907\n",
            "Epoch 2/30\n",
            "750/750 [==============================] - 152s 203ms/step - loss: 0.5226 - accuracy: 0.8143 - val_loss: 0.4831 - val_accuracy: 0.8290\n",
            "Epoch 3/30\n",
            "750/750 [==============================] - 152s 203ms/step - loss: 0.4527 - accuracy: 0.8381 - val_loss: 0.4359 - val_accuracy: 0.8426\n",
            "Epoch 4/30\n",
            "750/750 [==============================] - 155s 206ms/step - loss: 0.4075 - accuracy: 0.8530 - val_loss: 0.4092 - val_accuracy: 0.8557\n",
            "Epoch 5/30\n",
            "750/750 [==============================] - 151s 201ms/step - loss: 0.3805 - accuracy: 0.8626 - val_loss: 0.3878 - val_accuracy: 0.8614\n",
            "Epoch 6/30\n",
            "750/750 [==============================] - 150s 200ms/step - loss: 0.3577 - accuracy: 0.8708 - val_loss: 0.3732 - val_accuracy: 0.8663\n",
            "Epoch 7/30\n",
            "750/750 [==============================] - 150s 200ms/step - loss: 0.3411 - accuracy: 0.8757 - val_loss: 0.3493 - val_accuracy: 0.8750\n",
            "Epoch 8/30\n",
            "750/750 [==============================] - 162s 216ms/step - loss: 0.3248 - accuracy: 0.8826 - val_loss: 0.3492 - val_accuracy: 0.8748\n",
            "Epoch 9/30\n",
            "750/750 [==============================] - 164s 219ms/step - loss: 0.3124 - accuracy: 0.8867 - val_loss: 0.3529 - val_accuracy: 0.8733\n",
            "Epoch 10/30\n",
            "750/750 [==============================] - 167s 222ms/step - loss: 0.3007 - accuracy: 0.8908 - val_loss: 0.3199 - val_accuracy: 0.8852\n",
            "Epoch 11/30\n",
            "750/750 [==============================] - 166s 221ms/step - loss: 0.2891 - accuracy: 0.8950 - val_loss: 0.3352 - val_accuracy: 0.8807\n",
            "Epoch 12/30\n",
            "750/750 [==============================] - 155s 207ms/step - loss: 0.2863 - accuracy: 0.8959 - val_loss: 0.3032 - val_accuracy: 0.8912\n",
            "Epoch 13/30\n",
            "750/750 [==============================] - 154s 206ms/step - loss: 0.2746 - accuracy: 0.8992 - val_loss: 0.3113 - val_accuracy: 0.8899\n",
            "Epoch 14/30\n",
            "750/750 [==============================] - 160s 213ms/step - loss: 0.2667 - accuracy: 0.9024 - val_loss: 0.2973 - val_accuracy: 0.8942\n",
            "Epoch 15/30\n",
            "750/750 [==============================] - 168s 224ms/step - loss: 0.2583 - accuracy: 0.9051 - val_loss: 0.3183 - val_accuracy: 0.8854\n",
            "Epoch 16/30\n",
            "750/750 [==============================] - 165s 221ms/step - loss: 0.2529 - accuracy: 0.9077 - val_loss: 0.3356 - val_accuracy: 0.8781\n",
            "Epoch 17/30\n",
            "750/750 [==============================] - 164s 219ms/step - loss: 0.2482 - accuracy: 0.9091 - val_loss: 0.2913 - val_accuracy: 0.8982\n",
            "Epoch 18/30\n",
            "750/750 [==============================] - 162s 216ms/step - loss: 0.2445 - accuracy: 0.9101 - val_loss: 0.3270 - val_accuracy: 0.8806\n",
            "Epoch 19/30\n",
            "750/750 [==============================] - 162s 216ms/step - loss: 0.2387 - accuracy: 0.9117 - val_loss: 0.3050 - val_accuracy: 0.8910\n",
            "Epoch 20/30\n",
            "750/750 [==============================] - 164s 219ms/step - loss: 0.2362 - accuracy: 0.9131 - val_loss: 0.2932 - val_accuracy: 0.8964\n",
            "Epoch 21/30\n",
            "750/750 [==============================] - 163s 217ms/step - loss: 0.2323 - accuracy: 0.9144 - val_loss: 0.2906 - val_accuracy: 0.8970\n",
            "Epoch 22/30\n",
            "750/750 [==============================] - 162s 216ms/step - loss: 0.2236 - accuracy: 0.9183 - val_loss: 0.2889 - val_accuracy: 0.8958\n",
            "Epoch 23/30\n",
            "750/750 [==============================] - 162s 216ms/step - loss: 0.2234 - accuracy: 0.9173 - val_loss: 0.2895 - val_accuracy: 0.8978\n",
            "Epoch 24/30\n",
            "750/750 [==============================] - 164s 219ms/step - loss: 0.2200 - accuracy: 0.9180 - val_loss: 0.2949 - val_accuracy: 0.8965\n",
            "Epoch 25/30\n",
            "750/750 [==============================] - 164s 219ms/step - loss: 0.2122 - accuracy: 0.9212 - val_loss: 0.2861 - val_accuracy: 0.8989\n",
            "Epoch 26/30\n",
            "750/750 [==============================] - 161s 215ms/step - loss: 0.2116 - accuracy: 0.9218 - val_loss: 0.3024 - val_accuracy: 0.8954\n",
            "Epoch 27/30\n",
            "750/750 [==============================] - 163s 218ms/step - loss: 0.2073 - accuracy: 0.9233 - val_loss: 0.2978 - val_accuracy: 0.8957\n",
            "Epoch 28/30\n",
            "750/750 [==============================] - 165s 220ms/step - loss: 0.2046 - accuracy: 0.9245 - val_loss: 0.2951 - val_accuracy: 0.8981\n",
            "Epoch 29/30\n",
            "750/750 [==============================] - 166s 222ms/step - loss: 0.2028 - accuracy: 0.9244 - val_loss: 0.2947 - val_accuracy: 0.8979\n",
            "Epoch 30/30\n",
            "750/750 [==============================] - 165s 220ms/step - loss: 0.1993 - accuracy: 0.9247 - val_loss: 0.2990 - val_accuracy: 0.8957\n",
            "CPU times: user 2h 22min 22s, sys: 2min 54s, total: 2h 25min 17s\n",
            "Wall time: 1h 20min 23s\n"
          ],
          "name": "stdout"
        }
      ]
    },
    {
      "cell_type": "code",
      "metadata": {
        "id": "tWpufvbdu885",
        "colab_type": "code",
        "colab": {
          "base_uri": "https://localhost:8080/",
          "height": 34
        },
        "outputId": "3610fa55-9868-41c0-992a-900db5cdf3b4"
      },
      "source": [
        "# métricas -> compile \n",
        "model.metrics_names"
      ],
      "execution_count": 9,
      "outputs": [
        {
          "output_type": "execute_result",
          "data": {
            "text/plain": [
              "['loss', 'accuracy']"
            ]
          },
          "metadata": {
            "tags": []
          },
          "execution_count": 9
        }
      ]
    },
    {
      "cell_type": "markdown",
      "metadata": {
        "id": "EC-QlW7g7k3M",
        "colab_type": "text"
      },
      "source": [
        "<br>\n",
        "<br>\n",
        "<hr>\n",
        "<br>\n",
        "\n",
        "\n",
        "\n",
        "### BatchNormalization \n",
        "\n",
        "Uma técnica de normalização em lotes aplicada a mini-lotes de dados.\n",
        "\n",
        "\n",
        "\n",
        "\n",
        "\n",
        "\n",
        "\n",
        "<br>\n",
        "<br>"
      ]
    },
    {
      "cell_type": "code",
      "metadata": {
        "id": "gCMb0dKL--16",
        "colab_type": "code",
        "colab": {}
      },
      "source": [
        "# CNN BatchNormalization \n",
        "\n",
        "model = Sequential()\n",
        "model.add(Input(shape=image_shape))\n",
        "model.add(Conv2D(32, (3,3), padding='same', activation='relu'))\n",
        "model.add(MaxPool2D(pool_size=(2,2)))\n",
        "model.add(BatchNormalization()) # Batch 1 \n",
        "model.add(Conv2D(64, (3,3), padding='same', activation='relu'))\n",
        "model.add(MaxPool2D(pool_size=(2,2)))\n",
        "model.add(BatchNormalization()) # Batch 2 \n",
        "model.add(Conv2D(128, (3,3), padding='same', activation='relu'))\n",
        "model.add(MaxPool2D(pool_size=(2,2)))\n",
        "model.add(SpatialDropout2D(0.40))\n",
        "model.add(Conv2D(256, (3,3), padding='same', activation='relu'))\n",
        "model.add(MaxPool2D(pool_size=(2,2)))\n",
        "model.add(BatchNormalization()) # Batch 3 \n",
        "model.add(GlobalMaxPool2D())\n",
        "model.add(Dense(128, activation='relu'))\n",
        "model.add(Dense(10, activation='softmax'))"
      ],
      "execution_count": 10,
      "outputs": []
    },
    {
      "cell_type": "code",
      "metadata": {
        "id": "Rbb9CgkT4Igs",
        "colab_type": "code",
        "colab": {
          "base_uri": "https://localhost:8080/",
          "height": 221
        },
        "outputId": "744b5a3d-efa2-4fa6-cb83-781049477a9e"
      },
      "source": [
        "%%time \n",
        "\n",
        "model.compile(optimizer=optimizer,\n",
        "              loss='sparse_categorical_crossentropy',\n",
        "              metrics=['accuracy'])\n",
        "\n",
        "\n",
        "model.fit(X_train, y_train,\n",
        "          batch_size=batch_size,\n",
        "          epochs=epochs,\n",
        "          validation_split=0.20,\n",
        "          callbacks=[early_stopping])"
      ],
      "execution_count": 11,
      "outputs": [
        {
          "output_type": "stream",
          "text": [
            "Epoch 1/5\n",
            "750/750 [==============================] - 137s 183ms/step - loss: 0.4437 - accuracy: 0.8372 - val_loss: 0.3359 - val_accuracy: 0.8712\n",
            "Epoch 2/5\n",
            "750/750 [==============================] - 134s 179ms/step - loss: 0.2848 - accuracy: 0.8952 - val_loss: 0.2811 - val_accuracy: 0.8987\n",
            "Epoch 3/5\n",
            "750/750 [==============================] - 135s 180ms/step - loss: 0.2460 - accuracy: 0.9105 - val_loss: 0.2371 - val_accuracy: 0.9120\n",
            "Epoch 4/5\n",
            "750/750 [==============================] - 137s 183ms/step - loss: 0.2188 - accuracy: 0.9198 - val_loss: 0.2896 - val_accuracy: 0.8989\n",
            "Epoch 5/5\n",
            "750/750 [==============================] - 133s 178ms/step - loss: 0.2001 - accuracy: 0.9260 - val_loss: 0.2348 - val_accuracy: 0.9162\n",
            "CPU times: user 19min 38s, sys: 39.5 s, total: 20min 18s\n",
            "Wall time: 11min 19s\n"
          ],
          "name": "stdout"
        }
      ]
    },
    {
      "cell_type": "code",
      "metadata": {
        "id": "zD8e3-br6L8S",
        "colab_type": "code",
        "colab": {
          "base_uri": "https://localhost:8080/",
          "height": 51
        },
        "outputId": "4c08ca06-fffb-4239-d076-10c5240034c2"
      },
      "source": [
        "model.evaluate(X_test, y_test, batch_size=batch_size)"
      ],
      "execution_count": 12,
      "outputs": [
        {
          "output_type": "stream",
          "text": [
            "157/157 [==============================] - 6s 39ms/step - loss: 0.2450 - accuracy: 0.9109\n"
          ],
          "name": "stdout"
        },
        {
          "output_type": "execute_result",
          "data": {
            "text/plain": [
              "[0.2449817657470703, 0.9108999967575073]"
            ]
          },
          "metadata": {
            "tags": []
          },
          "execution_count": 12
        }
      ]
    },
    {
      "cell_type": "code",
      "metadata": {
        "id": "ihQQn0GO6j3u",
        "colab_type": "code",
        "colab": {
          "base_uri": "https://localhost:8080/",
          "height": 306
        },
        "outputId": "eafd3863-34d4-41ee-eae0-12b925fcca74"
      },
      "source": [
        "y_pred = model.predict(X_test)\n",
        "y_pred = np.argmax(y_pred, axis=1)\n",
        "\n",
        "print(classification_report(y_test, y_pred))"
      ],
      "execution_count": 13,
      "outputs": [
        {
          "output_type": "stream",
          "text": [
            "              precision    recall  f1-score   support\n",
            "\n",
            "           0       0.84      0.91      0.87      1000\n",
            "           1       0.99      0.98      0.99      1000\n",
            "           2       0.92      0.76      0.83      1000\n",
            "           3       0.91      0.93      0.92      1000\n",
            "           4       0.78      0.92      0.84      1000\n",
            "           5       0.98      0.99      0.98      1000\n",
            "           6       0.79      0.70      0.75      1000\n",
            "           7       0.96      0.97      0.97      1000\n",
            "           8       0.99      0.99      0.99      1000\n",
            "           9       0.98      0.96      0.97      1000\n",
            "\n",
            "    accuracy                           0.91     10000\n",
            "   macro avg       0.91      0.91      0.91     10000\n",
            "weighted avg       0.91      0.91      0.91     10000\n",
            "\n"
          ],
          "name": "stdout"
        }
      ]
    },
    {
      "cell_type": "markdown",
      "metadata": {
        "id": "roS5GDCaCE4J",
        "colab_type": "text"
      },
      "source": [
        "<br>\n",
        "<hr>\n",
        "<br>\n",
        "<br>\n",
        "\n",
        "\n",
        "\n",
        "### LayerNormalization \n",
        "\n",
        "Camada de normalizção que aplica normalização por camada difrente de mini-lotes é uma abordagem que usa estatísticas independentes do mini-lote. \n",
        "\n",
        "LayerNormalization não introduz dependências, pois calcula-se as estatísticas de normalização da camada em todas as unidades ocultas na mesma camada.\n",
        "\n",
        "\n",
        "Diferente da BatchNormalization, a LayerNormalization não impõe nenhuma restrição ao tamanho do mini-lote \n",
        "\n",
        "\n",
        "\n",
        "\n",
        "\n",
        "\n",
        "\n",
        "<br>\n",
        "<br>"
      ]
    },
    {
      "cell_type": "code",
      "metadata": {
        "id": "ozAFabEAESmx",
        "colab_type": "code",
        "colab": {}
      },
      "source": [
        "from tensorflow.keras.layers import LayerNormalization"
      ],
      "execution_count": 14,
      "outputs": []
    },
    {
      "cell_type": "code",
      "metadata": {
        "id": "GrVyVlnCEZ7W",
        "colab_type": "code",
        "colab": {}
      },
      "source": [
        "# CNN com LayerNormalzation (3 camadas)\n",
        "\n",
        "model = Sequential()\n",
        "model.add(Input(shape=image_shape))\n",
        "model.add(Conv2D(32, (3,3), padding='same', activation='relu'))\n",
        "model.add(MaxPool2D(pool_size=(2,2)))\n",
        "model.add(LayerNormalization()) # LayerNormalization 1 \n",
        "model.add(Conv2D(64, (3,3), padding='same', activation='relu'))\n",
        "model.add(MaxPool2D(pool_size=(2,2)))\n",
        "model.add(LayerNormalization()) # LayerNormalization 2\n",
        "model.add(Conv2D(128, (3,3), padding='same', activation='relu'))\n",
        "model.add(MaxPool2D(pool_size=(2,2)))\n",
        "model.add(SpatialDropout2D(0.40))\n",
        "model.add(Conv2D(256, (3,3), padding='same', activation='relu'))\n",
        "model.add(MaxPool2D(pool_size=(2,2)))\n",
        "model.add(LayerNormalization()) # LayerNormalization 3\n",
        "model.add(GlobalMaxPool2D())\n",
        "model.add(Dense(128, activation='relu'))\n",
        "model.add(Dense(10, activation='softmax'))"
      ],
      "execution_count": 15,
      "outputs": []
    },
    {
      "cell_type": "code",
      "metadata": {
        "id": "7Ou7ITWMEmvl",
        "colab_type": "code",
        "colab": {
          "base_uri": "https://localhost:8080/",
          "height": 221
        },
        "outputId": "21783517-55de-4899-870b-9fa3257494e7"
      },
      "source": [
        "%%time \n",
        "model.compile(optimizer=optimizer,\n",
        "              loss='sparse_categorical_crossentropy',\n",
        "              metrics=['accuracy'])\n",
        "\n",
        "\n",
        "model.fit(X_train, y_train,\n",
        "          batch_size=batch_size,\n",
        "          epochs=epochs,\n",
        "          validation_split=0.20,\n",
        "          callbacks=[early_stopping])"
      ],
      "execution_count": 16,
      "outputs": [
        {
          "output_type": "stream",
          "text": [
            "Epoch 1/5\n",
            "750/750 [==============================] - 144s 192ms/step - loss: 0.5665 - accuracy: 0.7875 - val_loss: 0.3538 - val_accuracy: 0.8682\n",
            "Epoch 2/5\n",
            "750/750 [==============================] - 142s 189ms/step - loss: 0.3347 - accuracy: 0.8756 - val_loss: 0.2920 - val_accuracy: 0.8884\n",
            "Epoch 3/5\n",
            "750/750 [==============================] - 142s 189ms/step - loss: 0.2820 - accuracy: 0.8950 - val_loss: 0.2724 - val_accuracy: 0.8993\n",
            "Epoch 4/5\n",
            "750/750 [==============================] - 141s 188ms/step - loss: 0.2519 - accuracy: 0.9062 - val_loss: 0.2438 - val_accuracy: 0.9113\n",
            "Epoch 5/5\n",
            "750/750 [==============================] - 142s 190ms/step - loss: 0.2308 - accuracy: 0.9146 - val_loss: 0.2382 - val_accuracy: 0.9146\n",
            "CPU times: user 20min 38s, sys: 44.7 s, total: 21min 23s\n",
            "Wall time: 11min 54s\n"
          ],
          "name": "stdout"
        }
      ]
    },
    {
      "cell_type": "code",
      "metadata": {
        "id": "iOe1IPHqFeP0",
        "colab_type": "code",
        "colab": {
          "base_uri": "https://localhost:8080/",
          "height": 51
        },
        "outputId": "500d4991-7f3c-493e-a774-ee829e14a053"
      },
      "source": [
        "model.evaluate(X_test, y_test, batch_size=batch_size)"
      ],
      "execution_count": 17,
      "outputs": [
        {
          "output_type": "stream",
          "text": [
            "157/157 [==============================] - 7s 44ms/step - loss: 0.2494 - accuracy: 0.9118\n"
          ],
          "name": "stdout"
        },
        {
          "output_type": "execute_result",
          "data": {
            "text/plain": [
              "[0.24942593276500702, 0.9118000268936157]"
            ]
          },
          "metadata": {
            "tags": []
          },
          "execution_count": 17
        }
      ]
    },
    {
      "cell_type": "code",
      "metadata": {
        "id": "xEGluBg1FlqQ",
        "colab_type": "code",
        "colab": {
          "base_uri": "https://localhost:8080/",
          "height": 306
        },
        "outputId": "148922f1-e5c5-4c70-bf90-ff8e39c95551"
      },
      "source": [
        "y_pred = model.predict(X_test)\n",
        "y_pred = np.argmax(y_pred, axis=1)\n",
        "\n",
        "print(classification_report(y_test, y_pred))"
      ],
      "execution_count": 18,
      "outputs": [
        {
          "output_type": "stream",
          "text": [
            "              precision    recall  f1-score   support\n",
            "\n",
            "           0       0.87      0.87      0.87      1000\n",
            "           1       1.00      0.98      0.99      1000\n",
            "           2       0.83      0.91      0.87      1000\n",
            "           3       0.90      0.91      0.91      1000\n",
            "           4       0.85      0.86      0.85      1000\n",
            "           5       0.99      0.98      0.98      1000\n",
            "           6       0.77      0.70      0.73      1000\n",
            "           7       0.95      0.98      0.96      1000\n",
            "           8       0.99      0.97      0.98      1000\n",
            "           9       0.98      0.96      0.97      1000\n",
            "\n",
            "    accuracy                           0.91     10000\n",
            "   macro avg       0.91      0.91      0.91     10000\n",
            "weighted avg       0.91      0.91      0.91     10000\n",
            "\n"
          ],
          "name": "stdout"
        }
      ]
    },
    {
      "cell_type": "markdown",
      "metadata": {
        "id": "4uB7ceKvpoAL",
        "colab_type": "text"
      },
      "source": [
        "<br>\n",
        "<hr>\n",
        "<br>\n",
        "<br>\n",
        "\n",
        "\n",
        "### WeightNormalization \n",
        "<br>\n",
        "\n",
        "é um método desenvolvido pelo Open AI que, em vez de normalizar o mini-lote, normaliza os pesos da camada. A normalização de peso reparameteriza os pesos de qualquer camada na rede neural\n",
        "\n",
        "\n",
        "\n",
        "<br>"
      ]
    },
    {
      "cell_type": "code",
      "metadata": {
        "id": "08AnQHfyppVk",
        "colab_type": "code",
        "colab": {}
      },
      "source": [
        "import tensorflow_addons as tfa"
      ],
      "execution_count": 28,
      "outputs": []
    },
    {
      "cell_type": "code",
      "metadata": {
        "id": "oW9_n32Pp5dk",
        "colab_type": "code",
        "colab": {}
      },
      "source": [
        "# CNN com WeightNormalization \n",
        "\n",
        "model = Sequential()\n",
        "model.add(Input(shape=image_shape))\n",
        "model.add(tfa.layers.WeightNormalization(Conv2D(32, (3,3), padding='same', activation='relu'))) # WeightNormalization 1 \n",
        "model.add(MaxPool2D(pool_size=(2,2)))\n",
        "model.add(tfa.layers.WeightNormalization(Conv2D(64, (3,3), padding='same', activation='relu'))) # WeightNormalization 2\n",
        "model.add(MaxPool2D(pool_size=(2,2)))\n",
        "model.add(Conv2D(128, (3,3), padding='same', activation='relu'))\n",
        "model.add(MaxPool2D(pool_size=(2,2)))\n",
        "model.add(SpatialDropout2D(0.40))\n",
        "model.add(tfa.layers.WeightNormalization(Conv2D(256, (3,3), padding='same', activation='relu'))) # WeightNormalization 3\n",
        "model.add(GlobalMaxPool2D())\n",
        "model.add(Dense(128, activation='relu'))\n",
        "model.add(Dense(10, activation='softmax'))"
      ],
      "execution_count": 35,
      "outputs": []
    },
    {
      "cell_type": "code",
      "metadata": {
        "id": "_H6iqXC72ZOk",
        "colab_type": "code",
        "colab": {
          "base_uri": "https://localhost:8080/",
          "height": 221
        },
        "outputId": "b586e8ff-6f54-49a2-b68d-24c1bdd53280"
      },
      "source": [
        "%%time \n",
        "model.compile(optimizer=optimizer,\n",
        "              loss='sparse_categorical_crossentropy',\n",
        "              metrics=['accuracy'])\n",
        "\n",
        "\n",
        "model.fit(X_train, y_train,\n",
        "          batch_size=batch_size,\n",
        "          epochs=epochs,\n",
        "          validation_split=0.20,\n",
        "          callbacks=[early_stopping])"
      ],
      "execution_count": 36,
      "outputs": [
        {
          "output_type": "stream",
          "text": [
            "Epoch 1/5\n",
            "750/750 [==============================] - 137s 183ms/step - loss: 0.9214 - accuracy: 0.6602 - val_loss: 0.5409 - val_accuracy: 0.8108\n",
            "Epoch 2/5\n",
            "750/750 [==============================] - 135s 180ms/step - loss: 0.6081 - accuracy: 0.7732 - val_loss: 0.4982 - val_accuracy: 0.8212\n",
            "Epoch 3/5\n",
            "750/750 [==============================] - 140s 186ms/step - loss: 0.5469 - accuracy: 0.7983 - val_loss: 0.4491 - val_accuracy: 0.8407\n",
            "Epoch 4/5\n",
            "750/750 [==============================] - 139s 185ms/step - loss: 0.5049 - accuracy: 0.8119 - val_loss: 0.4317 - val_accuracy: 0.8428\n",
            "Epoch 5/5\n",
            "750/750 [==============================] - 133s 177ms/step - loss: 0.4749 - accuracy: 0.8232 - val_loss: 0.4244 - val_accuracy: 0.8487\n",
            "CPU times: user 18min 45s, sys: 1min 12s, total: 19min 57s\n",
            "Wall time: 11min 26s\n"
          ],
          "name": "stdout"
        }
      ]
    },
    {
      "cell_type": "code",
      "metadata": {
        "id": "hIk1JtjO3YEs",
        "colab_type": "code",
        "colab": {
          "base_uri": "https://localhost:8080/",
          "height": 306
        },
        "outputId": "3085aa3d-4ab0-4681-ba6c-0c5e3b5ec994"
      },
      "source": [
        "y_pred = model.predict(X_test)\n",
        "y_pred = np.argmax(y_pred, axis=1)\n",
        "\n",
        "print(classification_report(y_test, y_pred))"
      ],
      "execution_count": 37,
      "outputs": [
        {
          "output_type": "stream",
          "text": [
            "              precision    recall  f1-score   support\n",
            "\n",
            "           0       0.83      0.71      0.76      1000\n",
            "           1       0.98      0.97      0.98      1000\n",
            "           2       0.86      0.64      0.73      1000\n",
            "           3       0.92      0.83      0.87      1000\n",
            "           4       0.79      0.68      0.73      1000\n",
            "           5       0.98      0.92      0.95      1000\n",
            "           6       0.46      0.77      0.58      1000\n",
            "           7       0.90      0.96      0.93      1000\n",
            "           8       0.97      0.95      0.96      1000\n",
            "           9       0.96      0.94      0.95      1000\n",
            "\n",
            "    accuracy                           0.84     10000\n",
            "   macro avg       0.87      0.84      0.85     10000\n",
            "weighted avg       0.87      0.84      0.85     10000\n",
            "\n"
          ],
          "name": "stdout"
        }
      ]
    },
    {
      "cell_type": "markdown",
      "metadata": {
        "id": "ozJ9IQ6q3mpv",
        "colab_type": "text"
      },
      "source": [
        "<br>\n",
        "<hr>\n",
        "<br>\n",
        "\n",
        "\n",
        "\n",
        "### GroupNormalization \n",
        "\n",
        "\n",
        "\n",
        "\n",
        "<br>"
      ]
    },
    {
      "cell_type": "code",
      "metadata": {
        "id": "dYPv_qSh3sDE",
        "colab_type": "code",
        "colab": {}
      },
      "source": [
        "import tensorflow_addons as tfa"
      ],
      "execution_count": 38,
      "outputs": []
    },
    {
      "cell_type": "code",
      "metadata": {
        "id": "VYgOMi633u30",
        "colab_type": "code",
        "colab": {
          "base_uri": "https://localhost:8080/",
          "height": 34
        },
        "outputId": "7f65c3fb-78e2-45c7-860d-ffa417c0793b"
      },
      "source": [
        "tfa.layers.GroupNormalization(groups=8, axis=3)"
      ],
      "execution_count": 46,
      "outputs": [
        {
          "output_type": "execute_result",
          "data": {
            "text/plain": [
              "<tensorflow_addons.layers.normalizations.GroupNormalization at 0x7f493962fbe0>"
            ]
          },
          "metadata": {
            "tags": []
          },
          "execution_count": 46
        }
      ]
    },
    {
      "cell_type": "code",
      "metadata": {
        "id": "jSbzSDGu32GP",
        "colab_type": "code",
        "colab": {}
      },
      "source": [
        "# CNN com GroupNormalization \n",
        "\n",
        "model = Sequential()\n",
        "model.add(Input(shape=image_shape))\n",
        "model.add(Conv2D(32, (3,3), padding='same', activation='relu'))\n",
        "model.add(MaxPool2D(pool_size=(2,2)))\n",
        "model.add(tfa.layers.GroupNormalization(groups=8, axis=3)) # GroupNormalization 1 \n",
        "model.add(Conv2D(64, (3,3), padding='same', activation='relu'))\n",
        "model.add(MaxPool2D(pool_size=(2,2)))\n",
        "model.add(tfa.layers.GroupNormalization(groups=8, axis=3)) # GroupNormalization 2\n",
        "model.add(Conv2D(128, (3,3), padding='same', activation='relu'))\n",
        "model.add(MaxPool2D(pool_size=(2,2)))\n",
        "model.add(SpatialDropout2D(0.40))\n",
        "model.add(Conv2D(256, (3,3), padding='same', activation='relu'))\n",
        "model.add(MaxPool2D(pool_size=(2,2)))\n",
        "model.add(tfa.layers.GroupNormalization(groups=8, axis=3)) # GroupNormalization 3\n",
        "model.add(GlobalMaxPool2D())\n",
        "model.add(Dense(128, activation='relu'))\n",
        "model.add(Dense(10, activation='softmax'))\n"
      ],
      "execution_count": 47,
      "outputs": []
    },
    {
      "cell_type": "code",
      "metadata": {
        "id": "Z-5hoN7732I7",
        "colab_type": "code",
        "colab": {
          "base_uri": "https://localhost:8080/",
          "height": 221
        },
        "outputId": "34f06945-f6db-44c6-ef94-d327ceb3633d"
      },
      "source": [
        "%%time \n",
        "model.compile(optimizer=optimizer,\n",
        "              loss='sparse_categorical_crossentropy',\n",
        "              metrics=['accuracy'])\n",
        "\n",
        "\n",
        "model.fit(X_train, y_train,\n",
        "          batch_size=batch_size,\n",
        "          epochs=5,\n",
        "          validation_split=0.20,\n",
        "          callbacks=[early_stopping])"
      ],
      "execution_count": 40,
      "outputs": [
        {
          "output_type": "stream",
          "text": [
            "Epoch 1/5\n",
            "750/750 [==============================] - 150s 200ms/step - loss: 0.5098 - accuracy: 0.8104 - val_loss: 0.3491 - val_accuracy: 0.8712\n",
            "Epoch 2/5\n",
            "750/750 [==============================] - 154s 205ms/step - loss: 0.3065 - accuracy: 0.8866 - val_loss: 0.2948 - val_accuracy: 0.8878\n",
            "Epoch 3/5\n",
            "750/750 [==============================] - 157s 209ms/step - loss: 0.2640 - accuracy: 0.9014 - val_loss: 0.2861 - val_accuracy: 0.8918\n",
            "Epoch 4/5\n",
            "750/750 [==============================] - 150s 200ms/step - loss: 0.2373 - accuracy: 0.9114 - val_loss: 0.2575 - val_accuracy: 0.9052\n",
            "Epoch 5/5\n",
            "750/750 [==============================] - 159s 212ms/step - loss: 0.2170 - accuracy: 0.9197 - val_loss: 0.2321 - val_accuracy: 0.9208\n",
            "CPU times: user 20min 14s, sys: 1min 58s, total: 22min 12s\n",
            "Wall time: 12min 51s\n"
          ],
          "name": "stdout"
        }
      ]
    },
    {
      "cell_type": "code",
      "metadata": {
        "id": "lzE9_8WZ4Sol",
        "colab_type": "code",
        "colab": {
          "base_uri": "https://localhost:8080/",
          "height": 306
        },
        "outputId": "d64a4c19-1825-418e-d5f7-f278bf3d4080"
      },
      "source": [
        "y_pred = model.predict(X_test)\n",
        "y_pred = np.argmax(y_pred, axis=1)\n",
        "\n",
        "print(classification_report(y_test, y_pred))"
      ],
      "execution_count": 41,
      "outputs": [
        {
          "output_type": "stream",
          "text": [
            "              precision    recall  f1-score   support\n",
            "\n",
            "           0       0.86      0.88      0.87      1000\n",
            "           1       0.99      0.98      0.99      1000\n",
            "           2       0.87      0.85      0.86      1000\n",
            "           3       0.90      0.93      0.92      1000\n",
            "           4       0.87      0.84      0.85      1000\n",
            "           5       0.99      0.98      0.98      1000\n",
            "           6       0.74      0.75      0.75      1000\n",
            "           7       0.94      0.98      0.96      1000\n",
            "           8       0.98      0.99      0.98      1000\n",
            "           9       0.98      0.95      0.97      1000\n",
            "\n",
            "    accuracy                           0.91     10000\n",
            "   macro avg       0.91      0.91      0.91     10000\n",
            "weighted avg       0.91      0.91      0.91     10000\n",
            "\n"
          ],
          "name": "stdout"
        }
      ]
    },
    {
      "cell_type": "markdown",
      "metadata": {
        "id": "C2b7XQGN4e3X",
        "colab_type": "text"
      },
      "source": [
        "<br>\n",
        "<hr>\n",
        "<br>"
      ]
    },
    {
      "cell_type": "markdown",
      "metadata": {
        "id": "Bepy0Gj_4fAZ",
        "colab_type": "text"
      },
      "source": [
        "### Instance Normalization\n",
        "\n",
        "\n",
        "<br>"
      ]
    },
    {
      "cell_type": "code",
      "metadata": {
        "id": "gFeqkSfw4haj",
        "colab_type": "code",
        "colab": {}
      },
      "source": [
        "import tensorflow_addons as tfa "
      ],
      "execution_count": 42,
      "outputs": []
    },
    {
      "cell_type": "code",
      "metadata": {
        "id": "m5A8bXxZ4mHk",
        "colab_type": "code",
        "colab": {
          "base_uri": "https://localhost:8080/",
          "height": 34
        },
        "outputId": "97e6c215-3089-4fdb-f6e0-8850d7571702"
      },
      "source": [
        "tfa.layers.InstanceNormalization()"
      ],
      "execution_count": 43,
      "outputs": [
        {
          "output_type": "execute_result",
          "data": {
            "text/plain": [
              "<tensorflow_addons.layers.normalizations.InstanceNormalization at 0x7f493c10c358>"
            ]
          },
          "metadata": {
            "tags": []
          },
          "execution_count": 43
        }
      ]
    },
    {
      "cell_type": "code",
      "metadata": {
        "id": "A9ciFLVV4oaU",
        "colab_type": "code",
        "colab": {}
      },
      "source": [
        "model = Sequential()\n",
        "model.add(Input(shape=image_shape))\n",
        "model.add(Conv2D(32, (3,3), padding='same', activation='relu'))\n",
        "model.add(MaxPool2D(pool_size=(2,2)))\n",
        "model.add(tfa.layers.InstanceNormalization(axis=3, gamma_initializer=\"random_uniform\")) # InstanceNormalization 1 \n",
        "model.add(Conv2D(64, (3,3), padding='same', activation='relu'))\n",
        "model.add(MaxPool2D(pool_size=(2,2)))\n",
        "model.add(tfa.layers.InstanceNormalization(axis=3, gamma_initializer=\"random_uniform\")) # InstanceNormalization 2\n",
        "model.add(Conv2D(128, (3,3), padding='same', activation='relu'))\n",
        "model.add(MaxPool2D(pool_size=(2,2)))\n",
        "model.add(SpatialDropout2D(0.40))\n",
        "model.add(Conv2D(256, (3,3), padding='same', activation='relu'))\n",
        "model.add(MaxPool2D(pool_size=(2,2)))\n",
        "model.add(tfa.layers.InstanceNormalization(axis=3, gamma_initializer=\"random_uniform\") # InstanceNormalization 3\n",
        "model.add(GlobalMaxPool2D())\n",
        "model.add(Dense(128, activation='relu'))\n",
        "model.add(Dense(10, activation='softmax'))\n"
      ],
      "execution_count": null,
      "outputs": []
    },
    {
      "cell_type": "code",
      "metadata": {
        "id": "WF2S0_or5Kpy",
        "colab_type": "code",
        "colab": {
          "base_uri": "https://localhost:8080/",
          "height": 221
        },
        "outputId": "6437927d-e172-45ca-a572-21f2eb5064ac"
      },
      "source": [
        "%%time \n",
        "model.compile(optimizer=optimizer,\n",
        "              loss='sparse_categorical_crossentropy',\n",
        "              metrics=['accuracy'])\n",
        "\n",
        "\n",
        "model.fit(X_train, y_train,\n",
        "          batch_size=batch_size,\n",
        "          epochs=epochs,\n",
        "          validation_split=0.20,\n",
        "          callbacks=[early_stopping])"
      ],
      "execution_count": 44,
      "outputs": [
        {
          "output_type": "stream",
          "text": [
            "Epoch 1/5\n",
            "750/750 [==============================] - 150s 200ms/step - loss: 0.1986 - accuracy: 0.9263 - val_loss: 0.2309 - val_accuracy: 0.9183\n",
            "Epoch 2/5\n",
            "750/750 [==============================] - 152s 203ms/step - loss: 0.1869 - accuracy: 0.9305 - val_loss: 0.2278 - val_accuracy: 0.9209\n",
            "Epoch 3/5\n",
            "750/750 [==============================] - 150s 200ms/step - loss: 0.1717 - accuracy: 0.9365 - val_loss: 0.2271 - val_accuracy: 0.9221\n",
            "Epoch 4/5\n",
            "750/750 [==============================] - 149s 199ms/step - loss: 0.1600 - accuracy: 0.9407 - val_loss: 0.2329 - val_accuracy: 0.9208\n",
            "Epoch 5/5\n",
            "750/750 [==============================] - 149s 199ms/step - loss: 0.1530 - accuracy: 0.9419 - val_loss: 0.2312 - val_accuracy: 0.9213\n",
            "CPU times: user 21min 11s, sys: 51.6 s, total: 22min 3s\n",
            "Wall time: 12min 33s\n"
          ],
          "name": "stdout"
        }
      ]
    },
    {
      "cell_type": "code",
      "metadata": {
        "id": "nYclTJ195K6F",
        "colab_type": "code",
        "colab": {
          "base_uri": "https://localhost:8080/",
          "height": 306
        },
        "outputId": "8836e443-dfcb-4af8-d42c-81a4ee8ea9f8"
      },
      "source": [
        "y_pred = model.predict(X_test)\n",
        "y_pred = np.argmax(y_pred, axis=1)\n",
        "\n",
        "print(classification_report(y_test, y_pred))"
      ],
      "execution_count": 45,
      "outputs": [
        {
          "output_type": "stream",
          "text": [
            "              precision    recall  f1-score   support\n",
            "\n",
            "           0       0.86      0.88      0.87      1000\n",
            "           1       0.99      0.99      0.99      1000\n",
            "           2       0.79      0.94      0.86      1000\n",
            "           3       0.92      0.93      0.92      1000\n",
            "           4       0.89      0.85      0.87      1000\n",
            "           5       0.99      0.98      0.98      1000\n",
            "           6       0.83      0.67      0.74      1000\n",
            "           7       0.97      0.97      0.97      1000\n",
            "           8       0.96      0.99      0.98      1000\n",
            "           9       0.97      0.97      0.97      1000\n",
            "\n",
            "    accuracy                           0.92     10000\n",
            "   macro avg       0.92      0.92      0.92     10000\n",
            "weighted avg       0.92      0.92      0.92     10000\n",
            "\n"
          ],
          "name": "stdout"
        }
      ]
    }
  ]
}